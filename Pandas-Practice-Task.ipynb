{
 "cells": [
  {
   "cell_type": "markdown",
   "id": "f1a46034",
   "metadata": {},
   "source": [
    "# Part 1"
   ]
  },
  {
   "cell_type": "code",
   "execution_count": 9,
   "id": "54047c02",
   "metadata": {},
   "outputs": [],
   "source": [
    "from tensorflow import keras\n",
    "import pandas as pd"
   ]
  },
  {
   "cell_type": "code",
   "execution_count": 10,
   "id": "66d12183",
   "metadata": {},
   "outputs": [],
   "source": [
    "dataset = keras.datasets.mnist.load_data()\n",
    "\n",
    "\n",
    "\n",
    "train_df = pd.DataFrame(list(zip(dataset[0][0], dataset[0][1])), columns =['image', 'label'])\n",
    "\n",
    "test_df = pd.DataFrame(list(zip(dataset[0][0], dataset[0][1])), columns =['image', 'label'])"
   ]
  },
  {
   "cell_type": "code",
   "execution_count": 17,
   "id": "47d28581",
   "metadata": {},
   "outputs": [],
   "source": [
    "train_df.to_csv('train.csv',index=False)"
   ]
  },
  {
   "cell_type": "code",
   "execution_count": 18,
   "id": "6e03ac4e",
   "metadata": {},
   "outputs": [],
   "source": [
    "test_df.to_csv('test.csv',index=False)"
   ]
  },
  {
   "cell_type": "markdown",
   "id": "fa98a1ee",
   "metadata": {},
   "source": [
    "# Part 2 "
   ]
  },
  {
   "cell_type": "markdown",
   "id": "8f099c4f",
   "metadata": {},
   "source": [
    "\n",
    "## load dataset from csvs and covert into orignal format ((np.array, np.array), (np.array, np.array))"
   ]
  },
  {
   "cell_type": "code",
   "execution_count": 29,
   "id": "b7171093",
   "metadata": {},
   "outputs": [
    {
     "name": "stdout",
     "output_type": "stream",
     "text": [
      "Train Data:\n",
      "Images shape: (60000,)\n",
      "Labels shape: (60000,)\n",
      "Test Data:\n",
      "Images shape: (60000,)\n",
      "Labels shape: (60000,)\n"
     ]
    }
   ],
   "source": [
    "import numpy as np\n",
    "import pandas as pd\n",
    "import keras\n",
    "\n",
    "# Load train data from CSV\n",
    "train_df = pd.read_csv('train.csv')\n",
    "train_images = np.array(train_df['image'].tolist())\n",
    "train_labels = np.array(train_df['label'].tolist())\n",
    "\n",
    "# Load test data from CSV\n",
    "test_df = pd.read_csv('test.csv')\n",
    "test_images = np.array(test_df['image'].tolist())\n",
    "test_labels = np.array(test_df['label'].tolist())\n",
    "\n",
    "# Convert data into original format\n",
    "train_data = (train_images, train_labels)\n",
    "test_data = (test_images, test_labels)\n",
    "#Verify data format\n",
    "print(\"Train Data:\")\n",
    "print(\"Images shape:\", train_data[0].shape)\n",
    "print(\"Labels shape:\", train_data[1].shape)\n",
    "\n",
    "print(\"Test Data:\")\n",
    "print(\"Images shape:\", test_data[0].shape)\n",
    "print(\"Labels shape:\", test_data[1].shape)\n"
   ]
  },
  {
   "cell_type": "code",
   "execution_count": null,
   "id": "48a5d6d4",
   "metadata": {},
   "outputs": [],
   "source": []
  }
 ],
 "metadata": {
  "kernelspec": {
   "display_name": "Python 3 (ipykernel)",
   "language": "python",
   "name": "python3"
  },
  "language_info": {
   "codemirror_mode": {
    "name": "ipython",
    "version": 3
   },
   "file_extension": ".py",
   "mimetype": "text/x-python",
   "name": "python",
   "nbconvert_exporter": "python",
   "pygments_lexer": "ipython3",
   "version": "3.10.9"
  }
 },
 "nbformat": 4,
 "nbformat_minor": 5
}
